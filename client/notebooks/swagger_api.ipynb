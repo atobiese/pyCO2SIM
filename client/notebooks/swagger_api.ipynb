{
 "cells": [
  {
   "cell_type": "markdown",
   "metadata": {},
   "source": [
    "# Test OpenApi \n",
    "Make sure the server is running at the given url (default is localhost)."
   ]
  },
  {
   "cell_type": "code",
   "execution_count": 1,
   "metadata": {},
   "outputs": [],
   "source": [
    "import sys\n",
    "sys.path.append('C:/repos/github/pyCO2SIM')\n",
    "from client.RestAPI import RESTApi as API"
   ]
  },
  {
   "cell_type": "markdown",
   "metadata": {},
   "source": [
    "Create an api object and load a flowsheet in CO2SIM (connect to instance in Matlab). "
   ]
  },
  {
   "cell_type": "code",
   "execution_count": 2,
   "metadata": {},
   "outputs": [],
   "source": [
    "api = API(\"http://127.0.0.1:5001/\",'ExampleTillerClosedLoop')"
   ]
  },
  {
   "cell_type": "code",
   "execution_count": 3,
   "metadata": {},
   "outputs": [
    {
     "data": {
      "text/plain": [
       "{'fname': 'Net: ExampleTillerClosedLoop',\n",
       " 'lname': '0__smulation_ is loaded',\n",
       " 'timestamp': '2020-08-05 13:21:26'}"
      ]
     },
     "execution_count": 3,
     "metadata": {},
     "output_type": "execute_result"
    }
   ],
   "source": [
    "api.connect()"
   ]
  },
  {
   "cell_type": "markdown",
   "metadata": {},
   "source": [
    "Note that the flowsheet has not been solved at this point, but the api methods are valid since the flowsheet is instantized. abailable methods are found at http://localhost:5001/api/ui/ and can also be tested here. "
   ]
  },
  {
   "cell_type": "code",
   "execution_count": 4,
   "metadata": {},
   "outputs": [
    {
     "data": {
      "text/plain": [
       "319.863911977384"
      ]
     },
     "execution_count": 4,
     "metadata": {},
     "output_type": "execute_result"
    }
   ],
   "source": [
    "api.get_pipe('P02', 'temp')"
   ]
  },
  {
   "cell_type": "code",
   "execution_count": 5,
   "metadata": {},
   "outputs": [
    {
     "data": {
      "text/plain": [
       "{'appEqCO2': '1.0',\n",
       " 'condenser': '0.0',\n",
       " 'flashP': '185.0',\n",
       " 'flashQ': '339813.336318657',\n",
       " 'flashQHL': '0.0',\n",
       " 'flashT': '393.971265347467',\n",
       " 'index': '7.0',\n",
       " 'itEPS': '1e-08',\n",
       " 'location': '\"941;548\"',\n",
       " 'maxIt': '200.0',\n",
       " 'mempointer': '0.0',\n",
       " 'name': '\"Reboiler\"',\n",
       " 'simtype': '\"SimUnit\"',\n",
       " 'subType': '\"QP\"',\n",
       " 'thermoPkg': '2.0',\n",
       " 'type': '\"Flash\"'}"
      ]
     },
     "execution_count": 5,
     "metadata": {},
     "output_type": "execute_result"
    }
   ],
   "source": [
    "api.get_unit_struct('Reboiler')"
   ]
  },
  {
   "cell_type": "code",
   "execution_count": 6,
   "metadata": {},
   "outputs": [
    {
     "data": {
      "text/plain": [
       "'320'"
      ]
     },
     "execution_count": 6,
     "metadata": {},
     "output_type": "execute_result"
    }
   ],
   "source": [
    "api.set_pipe('P02', 'temp', '320') #K"
   ]
  },
  {
   "cell_type": "code",
   "execution_count": 7,
   "metadata": {},
   "outputs": [
    {
     "data": {
      "text/plain": [
       "{'amine': [0.0, 0.0, 1.0, 0.0, 0.0],\n",
       " 'component': ['\"CO2\"', '\"H2O\"', '\"MEA\"', '\"N2\"', '\"Inert\"'],\n",
       " 'componentlocations': {'CO2': '1.0',\n",
       "  'H2O': '2.0',\n",
       "  'Inert': '5.0',\n",
       "  'MEA': '3.0',\n",
       "  'N2': '4.0'},\n",
       " 'enthalpy': 'NaN',\n",
       " 'flow': '12.0904999506219',\n",
       " 'from': {'direction': '\"Output\"',\n",
       "  'id': '\"UnitOutlet2\"',\n",
       "  'name': '\"Abs_Col\"',\n",
       "  'phase': '\"Vapor\"',\n",
       "  'position': '\"Top\"'},\n",
       " 'hashtableAPI': [],\n",
       " 'hssContent': '0.0',\n",
       " 'location': '\"125;222\"',\n",
       " 'mempointer': '0.0',\n",
       " 'molfrac': [0.0166411351026058,\n",
       "  0.244794155755405,\n",
       "  0.000824761544438195,\n",
       "  0.0,\n",
       "  0.737739947597551],\n",
       " 'molfracLiq': [0.0, 0.0, 0.0, 0.0, 0.0],\n",
       " 'molfracVap': [0.0166411351026058,\n",
       "  0.244794155755405,\n",
       "  0.000824761544438195,\n",
       "  0.0,\n",
       "  0.737739947597551],\n",
       " 'molweight': [44.0098, 18.0152, 61.0834, 28.0134, 28.0134],\n",
       " 'name': '\"V2\"',\n",
       " 'ncomp': '5.0',\n",
       " 'phi': 'NaN',\n",
       " 'pipeDynHistory': [],\n",
       " 'pointersAPI': {'pipeptrInL': [],\n",
       "  'pipeptrInLName': [],\n",
       "  'pipeptrInV': [],\n",
       "  'pipeptrInVName': []},\n",
       " 'press': '101.0',\n",
       " 'simtype': '\"SimPipe\"',\n",
       " 'temp': '330.07659360731',\n",
       " 'thermoPkg': '2.0',\n",
       " 'to': {'direction': '\"Output\"',\n",
       "  'id': '\"NetOutlet\"',\n",
       "  'name': '\"Tiller\"',\n",
       "  'phase': '\"NotAvailable\"',\n",
       "  'position': '\"Left\"'},\n",
       " 'type': '\"Pipe\"'}"
      ]
     },
     "execution_count": 7,
     "metadata": {},
     "output_type": "execute_result"
    }
   ],
   "source": [
    "api.get_pipe_struct('V2')"
   ]
  },
  {
   "cell_type": "code",
   "execution_count": 8,
   "metadata": {},
   "outputs": [
    {
     "data": {
      "text/plain": [
       "{'fname': 'temp',\n",
       " 'lname': '1_new simulation completed',\n",
       " 'timestamp': '2020-08-05 13:21:53'}"
      ]
     },
     "execution_count": 8,
     "metadata": {},
     "output_type": "execute_result"
    }
   ],
   "source": [
    "api.solve()"
   ]
  },
  {
   "cell_type": "code",
   "execution_count": 9,
   "metadata": {},
   "outputs": [
    {
     "data": {
      "text/plain": [
       "{'absorber_height': '19.418',\n",
       " 'capture_rate': '85.1908724500894',\n",
       " 'fluegas_CO2': '0.12782',\n",
       " 'fluegas_temp': '48.0',\n",
       " 'lean_loading': '0.09292258439815217',\n",
       " 'reboiler_duty': '94.39259342184916',\n",
       " 'reboiler_temp': '121.31111588678687',\n",
       " 'richLoading': '0.49336107377075983',\n",
       " 'solvent_circ_rate': '27.9528341520811',\n",
       " 'srd': '6.243347846235675'}"
      ]
     },
     "execution_count": 9,
     "metadata": {},
     "output_type": "execute_result"
    }
   ],
   "source": [
    "api.get_summary_struct()"
   ]
  },
  {
   "cell_type": "code",
   "execution_count": null,
   "metadata": {},
   "outputs": [],
   "source": []
  }
 ],
 "metadata": {
  "kernelspec": {
   "display_name": "Python 3",
   "language": "python",
   "name": "python3"
  },
  "language_info": {
   "codemirror_mode": {
    "name": "ipython",
    "version": 3
   },
   "file_extension": ".py",
   "mimetype": "text/x-python",
   "name": "python",
   "nbconvert_exporter": "python",
   "pygments_lexer": "ipython3",
   "version": "3.7.4"
  }
 },
 "nbformat": 4,
 "nbformat_minor": 4
}
